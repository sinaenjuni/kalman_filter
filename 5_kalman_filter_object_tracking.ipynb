{
 "cells": [
  {
   "cell_type": "code",
   "execution_count": 3,
   "metadata": {},
   "outputs": [],
   "source": [
    "import numpy as np\n",
    "import matplotlib.pyplot as plt\n",
    "import cv2\n",
    "from numpy.linalg import inv\n",
    "from skimage.metrics import structural_similarity\n",
    "\n",
    "np.random.seed(0)"
   ]
  },
  {
   "cell_type": "code",
   "execution_count": 4,
   "metadata": {},
   "outputs": [],
   "source": [
    "def kalman_filter(z_meas, x_esti, P):\n",
    "    \"\"\"칼만필터 알고리즘 (매개변수 : 측정값, 추정값, 오차공분산)\"\"\"\n",
    "    # (1) Prediction.\n",
    "    x_pred = A @ x_esti\n",
    "    P_pred = A @ P @ A.T + Q\n",
    "\n",
    "    # (2) Kalman Gain.\n",
    "    K = P_pred @ H.T @ inv(H @ P_pred @ H.T + R)\n",
    "\n",
    "    # (3) Estimation.\n",
    "    x_esti = x_pred + K @ (z_meas - H @ x_pred)\n",
    "\n",
    "    # (4) Error Covariance.\n",
    "    P = P_pred - K @ H @ P_pred\n",
    "\n",
    "    return x_esti, P"
   ]
  },
  {
   "cell_type": "code",
   "execution_count": null,
   "metadata": {},
   "outputs": [],
   "source": [
    "def get_ball_pos(iimg=0):\n",
    "    \"\"\"Return measured position of ball by comparing with background image file.\n",
    "        - References:\n",
    "        (1) Data Science School:\n",
    "            https://datascienceschool.net/view-notebook/f9f8983941254a34bf0fee42c66c5539\n",
    "        (2) Image Diff Calculation:\n",
    "            https://www.pyimagesearch.com/2017/06/19/image-difference-with-opencv-and-python\n",
    "    \"\"\"    \n",
    "    # Read images.\n",
    "    imageA = cv2.imread('./data/10.TrackKalman/Img/bg.jpg')\n",
    "    imageB = cv2.imread('./data/10.TrackKalman/Img/{}.jpg'.format(iimg+1))\n",
    "\n",
    "    # Convert the images to grayscale.\n",
    "    grayA = cv2.cvtColor(imageA, cv2.COLOR_BGR2GRAY)\n",
    "    grayB = cv2.cvtColor(imageB, cv2.COLOR_BGR2GRAY)\n",
    "\n",
    "    # 두 이미지 사이의 구조적 유사성 지수(SSIM) 계산, 차이 이미지가 반환되는지 확인.\n",
    "    _, diff = structural_similarity(grayA, grayB, full=True)\n",
    "    diff = (diff * 255).astype('uint8') \n",
    "\n",
    "    # 서로 다른 두 이미지(배경, 공)의 영역을 구하기 위해 이미지 임계값 지정 후 윤곽선 찾기 \n",
    "    thresh = cv2.threshold(diff, 0, 255, cv2.THRESH_BINARY_INV | cv2.THRESH_OTSU)[1]\n",
    "    contours, _ = cv2.findContours(thresh.copy(), cv2.RETR_EXTERNAL, cv2.CHAIN_APPROX_SIMPLE)\n",
    "    M = cv2.moments(contours[0])\n",
    "    xc = int(M['m10'] / M['m00'])  # center of x as true position.\n",
    "    yc = int(M['m01'] / M['m00'])  # center of y as true position.\n",
    "\n",
    "    v = np.random.normal(0, 15)  # v: 위치의 측정잡음\n",
    "\n",
    "    xpos_meas = xc + v  # x_pos_meas: 위치x의 측정값 (observable). \n",
    "    ypos_meas = yc + v  # y_pos_meas: 위치y의 측정값 (observable). \n",
    "\n",
    "    return np.array([xpos_meas, ypos_meas])"
   ]
  }
 ],
 "metadata": {
  "kernelspec": {
   "display_name": "Python 3",
   "language": "python",
   "name": "python3"
  },
  "language_info": {
   "codemirror_mode": {
    "name": "ipython",
    "version": 3
   },
   "file_extension": ".py",
   "mimetype": "text/x-python",
   "name": "python",
   "nbconvert_exporter": "python",
   "pygments_lexer": "ipython3",
   "version": "3.9.16"
  },
  "orig_nbformat": 4,
  "vscode": {
   "interpreter": {
    "hash": "c935fec463b5a7f361fc6c32cabdcd3f2607fb8bb13027583e88c466e5057503"
   }
  }
 },
 "nbformat": 4,
 "nbformat_minor": 2
}
